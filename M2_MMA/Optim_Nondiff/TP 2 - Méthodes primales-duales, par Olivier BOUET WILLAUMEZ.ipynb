{
 "cells": [
  {
   "cell_type": "markdown",
   "id": "77ccd067",
   "metadata": {},
   "source": [
    "<h3><div align=\"left\"> Université Paris Cité </div> <div align=\"right\"> Année 2023-2024</div></h3>\n",
    "<h3><div align=\"center\">Master 2 - MMA</div></h3>\n",
    "<h3><div align=\"center\">Optimisation</div></h3>\n",
    "<h3><div align=\"center\">Olivier BOUËT-WILLAUMEZ</div></h3>\n",
    "<h1><div align=\"center\">TP 2 - Méthodes primales-duales</div></h1>"
   ]
  },
  {
   "cell_type": "markdown",
   "id": "e1bd8dfc",
   "metadata": {},
   "source": [
    "On cherche à nouveau à trouver une inconnue $u$ à partir de la donnée bruitée $d= Au+b$. On suppose maintenant que $u$ n'est plus parcimonieuse, mais constante par morceaux."
   ]
  },
  {
   "cell_type": "markdown",
   "id": "ba2d4a05",
   "metadata": {},
   "source": [
    "Plus précisement, on a\n",
    "\n",
    "$$ A = \\begin{pmatrix}10&7&8&7\\\\7&5&6&5\\\\8&6&10&9\\\\7&5&9&10\\end{pmatrix}, \\ u = \\begin{pmatrix}1\\\\2\\\\2\\\\2\\end{pmatrix}, \\text{et}\\ b=\\begin{pmatrix}0.1\\\\-0.1\\\\0.1\\\\-0.1\\end{pmatrix} $$"
   ]
  },
  {
   "cell_type": "markdown",
   "id": "1be24c1d",
   "metadata": {},
   "source": [
    "On se propose donc d'estimer  $u$ en minimisant la fonction\n",
    "\n",
    "$$f:x\\mapsto\\frac{1}{2}||Ax-d||_{2}^{2}+\\lambda||Dx||_{1},$$\n",
    "\n",
    "où $$D =\\begin{pmatrix}1&-1&0&0\\\\0&1&-1&0\\\\0&0&1&-1\\end{pmatrix}$$"
   ]
  },
  {
   "cell_type": "markdown",
   "id": "b8205810",
   "metadata": {},
   "source": [
    "### 1."
   ]
  },
  {
   "cell_type": "markdown",
   "id": "f19cc0cf",
   "metadata": {},
   "source": [
    "**(a)** Construire la donnée $d$ et trouver une première estimation de $u$ en lui appliquant la matrice inverse $A^{-1}$. Constater que le problème est toujours mal posé."
   ]
  },
  {
   "cell_type": "code",
   "execution_count": 1,
   "id": "fde4b314",
   "metadata": {},
   "outputs": [],
   "source": [
    "import numpy as np\n",
    "import matplotlib.pyplot as plt"
   ]
  },
  {
   "cell_type": "markdown",
   "id": "f2d6a855",
   "metadata": {},
   "source": [
    "*Définition des données:*"
   ]
  },
  {
   "cell_type": "code",
   "execution_count": 2,
   "id": "100696bd",
   "metadata": {},
   "outputs": [],
   "source": [
    "A=np.array([[10,7,8,7],[7,5,6,5],[8,6,10,9],[7,5,9,10]])\n",
    "u = np.reshape(np.array([1,2,2,2]),(4,1))\n",
    "b = np.reshape(np.array([0.1,-0.1,0.1,-0.1]),(4,1))\n",
    "inv_A = np.linalg.inv(A)\n",
    "D=np.array([[1,-1,0,0],[0,1,-1,0],[0,0,1,-1]])"
   ]
  },
  {
   "cell_type": "markdown",
   "id": "ab518153",
   "metadata": {},
   "source": [
    "*Calcul de la donnée $d$ et de* `u_retrouve`:"
   ]
  },
  {
   "cell_type": "code",
   "execution_count": 3,
   "id": "24b75788",
   "metadata": {},
   "outputs": [
    {
     "name": "stdout",
     "output_type": "stream",
     "text": [
      "[[  9.2]\n",
      " [-11.6]\n",
      " [  5.5]\n",
      " [ -0.1]]\n"
     ]
    }
   ],
   "source": [
    "d = A@u + b\n",
    "u_retrouve = inv_A@d\n",
    "print(u_retrouve)"
   ]
  },
  {
   "cell_type": "markdown",
   "id": "0bf6647a",
   "metadata": {},
   "source": [
    "<u>Commentaire:</u> En raison du léger bruit $b$, on constate que $A^{-1}d$ est très loin de $u$. Cela vient du fait que $A$ n'est pas bien conditionnée comme nous le montre la cellule de code suivante."
   ]
  },
  {
   "cell_type": "code",
   "execution_count": 4,
   "id": "5a77bff6",
   "metadata": {},
   "outputs": [
    {
     "name": "stdout",
     "output_type": "stream",
     "text": [
      "2984.092701676514\n"
     ]
    }
   ],
   "source": [
    "cond_A=max(np.abs(np.linalg.eigvals(A)))/min(np.abs(np.linalg.eigvals(A)))\n",
    "print(cond_A)"
   ]
  },
  {
   "cell_type": "markdown",
   "id": "1d7919d8",
   "metadata": {},
   "source": [
    "**(b)** La fonction $f$ possède-t-elle un unique minimiseur ?"
   ]
  },
  {
   "cell_type": "markdown",
   "id": "fd8e2b91",
   "metadata": {},
   "source": [
    "<u>Commentaire:</u> La fonction $f$ est continue et coercive donc il y'a existence d'un minimiseur qui est en plus unique de pars la stricte convexité de $f$."
   ]
  },
  {
   "cell_type": "markdown",
   "id": "4560c5bd",
   "metadata": {},
   "source": [
    "### 2. *Méthode Duale*"
   ]
  },
  {
   "cell_type": "markdown",
   "id": "6ca49368",
   "metadata": {},
   "source": [
    "**(a)** Calculer la transformée de *Legendre-Fenchel* de la fonction $$ f_1 :x \\mapsto \\frac{1}{2}||Ax-d||^2_2$$\n",
    "\n",
    "et le gradient de la fonction $y \\mapsto f_1^*(-D^Ty)$."
   ]
  },
  {
   "cell_type": "markdown",
   "id": "238ff459",
   "metadata": {},
   "source": [
    "La transformée de *Legendre-Fenchel* de $f_1$ est définie par: $f_1^*(x)=\\underset{y\\in E}{\\text{sup}}\\big{(}\\langle x,y \\rangle - \\frac{1}{2}||Ay-d||^2_2\\big{)} = \\underset{y\\in E}{\\text{sup}} \\big{(}\\Psi(y)\\big{)}$.\n",
    "\n",
    "La fonction $y \\mapsto \\Psi(y)$ étant concave strictement et différentiable, le point $\\tilde{y}$ qui annule son gradient est alors un $\\text{argmax}$.\n",
    "\n",
    "On a que $\\nabla \\Psi(y) = x - A^T(Ay-d)$ en différentiant par rapport à $y$, et il vient que: \n",
    "\n",
    "$$\\begin{align}\n",
    "\\nabla \\Psi(\\tilde{y}) = 0  & \\iff x - A^T(A\\tilde{y}-d)=0 \\\\\n",
    "& \\iff x + A^Td = A^TA\\tilde{y} \\\\\n",
    "& \\iff \\tilde{y} = (A^TA)^{-1}(x+A^Td)\n",
    "\\end{align}\n",
    "$$\n",
    "\n",
    "On a finalement que:\n",
    "$$\\begin{align}\n",
    "f_1^*(x) & = \\underset{y\\in E}{\\text{sup}}\\big{(}\\langle x,y \\rangle - \\frac{1}{2}||Ay-d||^2_2\\big{)} \\\\\n",
    "         & = \\langle x,\\tilde{y} \\rangle - \\frac{1}{2}||A\\tilde{y}-d||^2_2 \\\\\n",
    "         & = \\langle x,(A^TA)^{-1}(x+A^Td)\\rangle - \\frac{1}{2}||A(A^TA)^{-1}(x+A^Td)-d||^2_2 \\\\\n",
    "         & = \\langle x,(A^TA)^{-1}(x+A^Td)\\rangle - \\frac{1}{2}||A(A^TA)^{-1}(x+A^Td)||^2_2 -\\frac{1}{2}||d||^2_2+\\langle A(A^TA)^{-1}(x+A^Td),d\\rangle \\\\\n",
    "         & = \\langle x,(A^TA)^{-1}(x+A^Td)\\rangle - \\frac{1}{2}||(A^T)^{-1}x+d||^2_2 -\\frac{1}{2}||d||^2_2 + \\langle (A^TA)^{-1}(x+A^Td),A^Td\\rangle \\\\\n",
    "         & = \\langle x + A^Td,(A^TA)^{-1}(x+A^Td)\\rangle - \\frac{1}{2}||(A^T)^{-1}x+d||^2_2 -\\frac{1}{2}||d||^2_2 \\\\\n",
    "         & = \\langle (A^T)^{-1}(x + A^Td),(A^T)^{-1}(x+A^Td)\\rangle - \\frac{1}{2}||(A^T)^{-1}x+d||^2_2 -\\frac{1}{2}||d||^2_2 \\\\\n",
    "         & = ||(A^T)^{-1}(x + A^Td)||^2_2 - \\frac{1}{2}||(A^T)^{-1}x+d||^2_2 -\\frac{1}{2}||d||^2_2 \\\\\n",
    "         & = \\frac{1}{2}||(A^T)^{-1}x +d||^2_2 -\\frac{1}{2}||d||^2\n",
    "\\end{align}\n",
    "$$  "
   ]
  },
  {
   "cell_type": "markdown",
   "id": "a9ea9476",
   "metadata": {},
   "source": [
    "On a alors que \n",
    "$$\\begin{align}\n",
    "f_1^*(-D^Ty) & = \\frac{1}{2}||-(A^T)^{-1}D^Ty +d||^2_2 -\\frac{1}{2}||d||^2 \\\\\n",
    "             & = \\frac{1}{2}||(A^T)^{-1}D^Ty -d||^2_2 -\\frac{1}{2}||d||^2 \n",
    "\\end{align}\n",
    "$$    "
   ]
  },
  {
   "cell_type": "markdown",
   "id": "35678a84",
   "metadata": {},
   "source": [
    "La fonction $y \\mapsto f_1^*(-D^Ty)$ étant différentiable comme somme de deux fonctions elles mêmes différentiables, il vient directement que:\n",
    "\n",
    "$$\\begin{align}\n",
    "\\nabla f_1^*(-D^Ty) & = \\big{(}(A^T)^{-1}D^T\\big{)}^T \\big{(}(A^T)^{-1}D^Ty -d \\big{)} \\\\\n",
    "                    & = DA^{-1}\\big{(}(A^T)^{-1}D^Ty-d\\big{)} \\\\\n",
    "                    & = (DA^{-1})(DA^{-1})^Ty -DA^{-1}d\n",
    "\\end{align}\n",
    "$$\n"
   ]
  },
  {
   "cell_type": "markdown",
   "id": "41e4499e",
   "metadata": {},
   "source": [
    "Définissons alors une fonction `gradient_f1_etoile` qui calcule ce gradient pour un $y$ donné:"
   ]
  },
  {
   "cell_type": "code",
   "execution_count": 5,
   "id": "282b0f7b",
   "metadata": {},
   "outputs": [],
   "source": [
    "def gradient_f1_etoile(y):\n",
    "    return (D@inv_A)@(D@inv_A).T@y-D@inv_A@d"
   ]
  },
  {
   "cell_type": "markdown",
   "id": "8982d4cf",
   "metadata": {},
   "source": [
    "**(b)** Calculer la transformée de *Legendre-Fenchel* de $f_2=\\lambda||\\cdot||_1$ et l'opérateur proximal $\\text{prox}_{\\tau f_2^*}$, où $\\tau >0$. "
   ]
  },
  {
   "cell_type": "markdown",
   "id": "7f473fcc",
   "metadata": {},
   "source": [
    "Soit $f_2 = \\lambda||\\cdot||_1 $, nous avons vu dans un exemple du cours que la transformée de *Legendre-Fenchel* de $f_2$ est alors donnée par:\n",
    "\n",
    "$$f_2^*(x) = \\mathcal{I}_{\\bar{B}(0,\\lambda)_{||\\cdot||_\\infty}}(x)$$"
   ]
  },
  {
   "cell_type": "markdown",
   "id": "b47d2001",
   "metadata": {},
   "source": [
    "Comme l'indicatrice est invariante par multiplication par une constante, on a que:\n",
    "\n",
    "$$\\begin{align}\n",
    "prox_{\\tau f_2^*}(x) & = prox_{f_2^*}(x) \\\\\n",
    "                & =  \\underset{z \\in E}{\\text{argmin}}\\big{(}\\frac{1}{2}||z-x||^2_2 +\\mathcal{I}_{\\bar{B}(0,\\lambda)_{||\\cdot||_\\infty}}(z)\\big{)} \\\\\n",
    "                & =  \\underset{z \\in \\bar{B}(0,\\lambda)_{||\\cdot||_\\infty}}{\\text{argmin}}\\big{(}\\frac{1}{2}||z-x||^2_2\\big{)} \\\\\n",
    "                & = \\text{proj}_{\\bar{B}(0,\\lambda)_{||\\cdot||_\\infty}}(x) \\\\\n",
    "                & = \\big{(}\\text{proj}_{[-\\lambda,\\lambda]}(x_k)\\big{)}_k\n",
    "\\end{align}\n",
    "$$"
   ]
  },
  {
   "cell_type": "markdown",
   "id": "1221f1cd",
   "metadata": {},
   "source": [
    "Codons une fonction `prox_f2_etoile` qui implémente cet opérateur."
   ]
  },
  {
   "cell_type": "code",
   "execution_count": 6,
   "id": "8cdde217",
   "metadata": {},
   "outputs": [],
   "source": [
    "def prox_f2_etoile(x,lambd):\n",
    "    return -lambd*(x<=-lambd)+lambd*(x>=lambd)+x*(np.abs(x)<lambd)"
   ]
  },
  {
   "cell_type": "markdown",
   "id": "1eb36722",
   "metadata": {},
   "source": [
    "**(c)** Minimiser la fonction\n",
    "$$ y \\mapsto f_1^*(-D^Ty) +f_2^*(y)$$\n",
    "à l'aide de l'algorithme `FISTA`."
   ]
  },
  {
   "cell_type": "markdown",
   "id": "ced568c0",
   "metadata": {},
   "source": [
    "Définissons dans un premier temps cet algorithme."
   ]
  },
  {
   "cell_type": "code",
   "execution_count": 7,
   "id": "b29209dd",
   "metadata": {},
   "outputs": [],
   "source": [
    "def FISTA(x0,lambd,tau,Niter):\n",
    "    x = x0\n",
    "    y = x0\n",
    "    t = 1\n",
    "    for n in range (Niter):\n",
    "        x_1 = prox_f2_etoile(y-tau*gradient_f1_etoile(y),lambd)\n",
    "        t_1 = (1+np.sqrt(1+4*t**2))/2\n",
    "        y = x_1 + (t-1)*(x_1-x)/t_1\n",
    "        x = x_1\n",
    "        t = t_1       \n",
    "    return x"
   ]
  },
  {
   "cell_type": "markdown",
   "id": "45749095",
   "metadata": {},
   "source": [
    "**(d)** En déduire le minimiseur de $f$."
   ]
  },
  {
   "cell_type": "markdown",
   "id": "9ce60821",
   "metadata": {},
   "source": [
    "On définit pour commencer la fonction $f$ qui nous sera utile par la suite."
   ]
  },
  {
   "cell_type": "code",
   "execution_count": 8,
   "id": "a39c9254",
   "metadata": {},
   "outputs": [],
   "source": [
    "def f(x,lambd):\n",
    "    return (1/2)*np.linalg.norm(A@x-d)**2+lambd*np.sum(np.abs(D@x))"
   ]
  },
  {
   "cell_type": "markdown",
   "id": "e51306d2",
   "metadata": {},
   "source": [
    "On initialise l'algorithme avec certaines valeurs, le pas est choisi comme étant une constante de *Lipschitz* de $\\nabla f_1^*$."
   ]
  },
  {
   "cell_type": "code",
   "execution_count": 9,
   "id": "6e75bf5e",
   "metadata": {},
   "outputs": [],
   "source": [
    "x0 = np.zeros((3,1))\n",
    "lambd = 0.1\n",
    "L = np.max(np.abs(np.linalg.eigvals((D@inv_A)@(D@inv_A).T)))\n",
    "pivot = np.linalg.inv(A.T@A)@D.T\n",
    "tau = 1/L"
   ]
  },
  {
   "cell_type": "markdown",
   "id": "86ad46ce",
   "metadata": {},
   "source": [
    "Le minimiseur $\\hat{x}$ de $f$ est obtenu en faisant un retour dans l'espace de départ à l'aide de $\\hat{y}$ de la manière suivante: \n",
    "\n",
    "$$\\begin{align}\n",
    "\\hat{x} & = \\nabla f_1^*(-D^T\\hat{y})\\\\\n",
    "        & = A^{-1}\\big{(}(A^T)^{-1}(-D^T\\hat{y}) +d\\big{)} \\\\\n",
    "        & = -(A^TA)^{-1}D^T\\hat{y} +A^{-1}d\n",
    "\\end{align}$$"
   ]
  },
  {
   "cell_type": "markdown",
   "id": "6eb3c98c",
   "metadata": {},
   "source": [
    "Création des données pour l'affichage simultané en question **5.**"
   ]
  },
  {
   "cell_type": "code",
   "execution_count": 10,
   "id": "a67f7741",
   "metadata": {},
   "outputs": [],
   "source": [
    "N_values_FISTA = np.arange(20,1300,10,dtype=int)\n",
    "list_min_FISTA = []\n",
    "for n in N_values_FISTA:\n",
    "    x_chap = -pivot@FISTA(x0,lambd,tau,n)+inv_A@d\n",
    "    value = f(x_chap,lambd)    \n",
    "    list_min_FISTA.append(value)"
   ]
  },
  {
   "cell_type": "markdown",
   "id": "d4a5d976",
   "metadata": {},
   "source": [
    "On trouve donc le minimiseur $\\hat{u}$:"
   ]
  },
  {
   "cell_type": "code",
   "execution_count": 11,
   "id": "ee3f7212",
   "metadata": {},
   "outputs": [
    {
     "name": "stdout",
     "output_type": "stream",
     "text": [
      "[[1.41416431]\n",
      " [1.41426699]\n",
      " [2.00430509]\n",
      " [2.00389342]]\n"
     ]
    }
   ],
   "source": [
    "print(-pivot@FISTA(x0,lambd,tau,2000)+inv_A@d)"
   ]
  },
  {
   "cell_type": "markdown",
   "id": "7a58ac75",
   "metadata": {},
   "source": [
    "On peut afficher $f(\\hat{x})$ en fonction du nombre d'itérations pour réaliser que la fonction $f$ est belle et bien minimisée par l'algorithme, cepandant ce n'est pas très significatif d'afficher l'écart de $u$ à $\\hat{x}$ car l'algorithme ne converge pas exactement vers la solution en raison du bruit trop grand."
   ]
  },
  {
   "cell_type": "code",
   "execution_count": 12,
   "id": "77915d76",
   "metadata": {},
   "outputs": [
    {
     "data": {
      "image/png": "[encoded data removed]",
      "text/plain": [
       "<Figure size 640x480 with 1 Axes>"
      ]
     },
     "metadata": {},
     "output_type": "display_data"
    }
   ],
   "source": [
    "plt.plot(N_values_FISTA,list_min_FISTA)\n",
    "plt.xlabel(\"Nombre d'itérations\")\n",
    "plt.ylabel(r'$f(\\hat{x})$')\n",
    "plt.title(\"FISTA\")\n",
    "plt.grid(True)\n",
    "plt.show()"
   ]
  },
  {
   "cell_type": "markdown",
   "id": "5e03a5ac",
   "metadata": {},
   "source": [
    "### 3. *Méthode primale-duale de Chambolle-Pock*"
   ]
  },
  {
   "cell_type": "markdown",
   "id": "8b6344b4",
   "metadata": {},
   "source": [
    "**(a)** Pourquoi l'algorithme primal-dual de *Chambolle-Pock* est-il bien adapté pour trouver un minimiseur de la fonction $f$ ?"
   ]
  },
  {
   "cell_type": "markdown",
   "id": "0a7de1a8",
   "metadata": {},
   "source": [
    "<u>Commentaire:</u> Trouver un minimiseur de la fonction $f:x\\mapsto\\frac{1}{2}||Ax-d||_{2}^{2}+\\lambda||Dx||_{1}$ revient à chercher un $\\hat{x}$ tel que \n",
    "\n",
    "$$\\hat{x} \\in \\underset{x \\in E}{\\text{argmin}}(\\frac{1}{2}||Ax-d||_{2}^{2}+\\lambda||Dx||_{1})$$\n",
    "\n",
    "En posant $f_1(x)=\\frac{1}{2}||Ax-d||_{2}^{2}$ ainsi que $f_2(x)=\\lambda||x||_{1}$, notre problème d'optimisation revient alors à trouver: \n",
    "\n",
    "$$\\hat{x} \\in \\underset{x \\in E}{\\text{argmin}}(f_1(x)+f_2(Dx))$$\n",
    "\n",
    "$f_1$ et $f_2$ étant des fonctions qui appartiennent toutes les deux à $\\Gamma_0(E)$ et qui sont simples, l'algorithme de *Chambolle-Pock* est alors bien défini et adapté au problème."
   ]
  },
  {
   "cell_type": "markdown",
   "id": "eb17ff47",
   "metadata": {},
   "source": [
    "**(b)** Calculer $\\text{prox}_{\\tau f_1}$."
   ]
  },
  {
   "cell_type": "markdown",
   "id": "e2f5ef29",
   "metadata": {},
   "source": [
    "Nous avons vu en TD que l'opérateur proximal de la fonction $(\\Phi:x\\mapsto \\frac{\\tau}{2}||Ax-d||^2)$ est donné par:\n",
    "\n",
    "$$ prox_{\\Phi}(x)= (Id +\\tau A^TA)^{-1}(x+\\tau A^Td)$$\n",
    "\n",
    "En effet,\n",
    "$$\\begin{align}\n",
    "prox_{\\Phi}(x) & = \\underset{z\\in E}{\\text{argmin}}\\big{(}\\frac{1}{2}||z-x||^2+\\Phi(z)\\big{)}, \\forall x \\in E \\\\\n",
    "& = \\underset{z\\in E}{\\text{argmin}}\\big{(}\\frac{1}{2}||z-x||^2+\\frac{\\tau}{2}||Az-d||^2\\big{)}, \\forall x \\in E \n",
    "\\end{align}$$\n",
    "\n",
    "Posons $\\Gamma(z)=\\frac{1}{2}||z-x||^2+\\frac{\\tau}{2}||Az-d||^2,\\forall x \\in E $, c'est une somme de deux fonctions différentiables strictement convexes. Le point $\\tilde{z}$ qui annule son gradient est donc la solution de notre problème.\n",
    "\n",
    "On peut voir facilement que $\\nabla \\Gamma(z)=z-x +\\tau A^T(Az-d)$ et donc on a bien que $\\tilde{z}=(Id +\\tau A^TA)^{-1}(x+\\tau A^Td)$."
   ]
  },
  {
   "cell_type": "markdown",
   "id": "524bd546",
   "metadata": {},
   "source": [
    "**(c)** Obtenir le minimiseur de $f$ à l'aide de l'algorithme de *Chambolle-Pock*."
   ]
  },
  {
   "cell_type": "markdown",
   "id": "2c7d2124",
   "metadata": {},
   "source": [
    "Pour commencer, définissons l'opérateur proximal de $\\Phi$ `prox_Phi`."
   ]
  },
  {
   "cell_type": "code",
   "execution_count": 13,
   "id": "d74d5fa9",
   "metadata": {},
   "outputs": [],
   "source": [
    "def prox_Phi(x,tau):\n",
    "    return np.linalg.inv(np.eye(4)+tau*(A.T@A))@(x+tau*(A.T@d))"
   ]
  },
  {
   "cell_type": "markdown",
   "id": "4e806c86",
   "metadata": {},
   "source": [
    "Définissons maintenant l'algorithme de `Chambolle_Pock`. (On choisi ici $\\theta=1$)"
   ]
  },
  {
   "cell_type": "code",
   "execution_count": 14,
   "id": "13559c63",
   "metadata": {},
   "outputs": [],
   "source": [
    "def Chambolle_Pock(x0,lambd,tau,sigma,Niter):\n",
    "    y = np.zeros((3,1))\n",
    "    x = x0\n",
    "    z = x0\n",
    "    x_pivot = x0\n",
    "    for n in range (Niter):\n",
    "        y = prox_f2_etoile(y + sigma*D@z,lambd)\n",
    "        x_pivot = prox_Phi(x_pivot - tau*D.T@y,tau)\n",
    "        z = 2*x_pivot -x\n",
    "        x = x_pivot\n",
    "    return x"
   ]
  },
  {
   "cell_type": "markdown",
   "id": "f259c2ac",
   "metadata": {},
   "source": [
    "On initialise l'algorithme avec $x_0,z_0 \\in E$ ainsi que $y_0 \\in E'$, on prend $\\tau$ très petit et $\\sigma$ qui respecte $\\sigma < \\frac{1}{\\tau |||D|||^2}$."
   ]
  },
  {
   "cell_type": "code",
   "execution_count": 15,
   "id": "68576f60",
   "metadata": {},
   "outputs": [],
   "source": [
    "x0 = np.zeros((4,1))\n",
    "lambd = 0.1\n",
    "tau = 0.001\n",
    "norm_D=np.max(np.abs(np.linalg.eigvals(D.T@D)))**2\n",
    "sigma = 1/((2*norm_D**2)*tau)\n",
    "Niter=3000"
   ]
  },
  {
   "cell_type": "markdown",
   "id": "5c9799b8",
   "metadata": {},
   "source": [
    "Création des données pour l'affichage simultané en question **5.**"
   ]
  },
  {
   "cell_type": "code",
   "execution_count": 16,
   "id": "4f4ce15f",
   "metadata": {},
   "outputs": [],
   "source": [
    "N_values_CP = np.arange(20,1300,10,dtype=int)\n",
    "list_min_CP = []\n",
    "for n in N_values_CP:\n",
    "    value = f(Chambolle_Pock(x0,lambd,tau,sigma,n),lambd)    \n",
    "    list_min_CP.append(value)"
   ]
  },
  {
   "cell_type": "markdown",
   "id": "d252fc74",
   "metadata": {},
   "source": [
    "On trouve donc le minimiseur $\\hat{u}$:"
   ]
  },
  {
   "cell_type": "code",
   "execution_count": 17,
   "id": "ff068e9d",
   "metadata": {},
   "outputs": [
    {
     "name": "stdout",
     "output_type": "stream",
     "text": [
      "[[1.41424797]\n",
      " [1.4142483 ]\n",
      " [2.00407064]\n",
      " [2.00407059]]\n"
     ]
    }
   ],
   "source": [
    "print(Chambolle_Pock(x0,lambd,tau,sigma,Niter))"
   ]
  },
  {
   "cell_type": "markdown",
   "id": "af3620ff",
   "metadata": {},
   "source": [
    "### 4.  *Méthode primale-duale généralisée par Condat et Vu*"
   ]
  },
  {
   "cell_type": "markdown",
   "id": "2bcefd04",
   "metadata": {},
   "source": [
    "**(a)** Lorsque l'opérateur $A$ prend une forme plus complexe, il est plus facile de faire une descente de gradient explicite sur $f_1$. Calculer le gradient de $f_1$."
   ]
  },
  {
   "cell_type": "markdown",
   "id": "75773218",
   "metadata": {},
   "source": [
    "On rappelle que $f_1(x)=\\frac{1}{2}||Ax-d||_{2}^{2}$. En différentiant, il vient directement que $\\nabla f_1(x)=A^T(Ax-d)$."
   ]
  },
  {
   "cell_type": "markdown",
   "id": "4f174a4d",
   "metadata": {},
   "source": [
    "Définissons alors une fonction `gradient_f1`."
   ]
  },
  {
   "cell_type": "code",
   "execution_count": 18,
   "id": "19b9eff0",
   "metadata": {},
   "outputs": [],
   "source": [
    "def gradient_f1(x):\n",
    "    return A.T@(A@x-d)"
   ]
  },
  {
   "cell_type": "markdown",
   "id": "539cd6f8",
   "metadata": {},
   "source": [
    "**(b)** Obtenir le minimiseur de $f$ à l'aide de l'algorithme proposé par *Condat et Vu*, en faisant une descente de gradient explicite sur la variable primale."
   ]
  },
  {
   "cell_type": "markdown",
   "id": "437c80bb",
   "metadata": {},
   "source": [
    "Implémentons l'algorithme `Condat_et_Vu`. (On choisi ici $\\theta=1$)"
   ]
  },
  {
   "cell_type": "code",
   "execution_count": 19,
   "id": "5c773b77",
   "metadata": {},
   "outputs": [],
   "source": [
    "def Condat_et_Vu(x0,lambd,tau,sigma,Niter):\n",
    "    y = np.zeros((3,1))\n",
    "    x = x0\n",
    "    z = x0\n",
    "    x_pivot = x0\n",
    "    for n in range (Niter):\n",
    "        y = prox_f2_etoile(y + sigma*D@z,lambd)\n",
    "        x_pivot = x_pivot -tau*(D.T@y+gradient_f1(x_pivot))\n",
    "        z = 2*x_pivot -x\n",
    "        x = x_pivot\n",
    "    return x"
   ]
  },
  {
   "cell_type": "markdown",
   "id": "c9421de8",
   "metadata": {},
   "source": [
    "On initialise l'algorithme avec $x_0,z_0 \\in E$ ainsi que $y_0 \\in E'$, on prend $\\tau$ très petit et $\\sigma$ qui respecte $\\big{(} \\frac{1}{\\tau}-L \\big{)}\\frac{1}{\\sigma}>|||D|||^2$."
   ]
  },
  {
   "cell_type": "code",
   "execution_count": 20,
   "id": "9133e21e",
   "metadata": {},
   "outputs": [],
   "source": [
    "x0 = np.zeros((4,1))\n",
    "lambd = 0.1\n",
    "tau = 0.001\n",
    "norm_D = np.max(np.abs(np.linalg.eigvals(D.T@D)))**2\n",
    "L = np.max(np.abs(np.linalg.eigvals(A.T@A)))\n",
    "sigma = ((1/tau)-L)*(1/2*norm_D)\n",
    "Niter=3000"
   ]
  },
  {
   "cell_type": "markdown",
   "id": "4d56d25d",
   "metadata": {},
   "source": [
    "Création des données pour l'affichage simultané en question **5.**"
   ]
  },
  {
   "cell_type": "code",
   "execution_count": 21,
   "id": "9ff13a9c",
   "metadata": {},
   "outputs": [],
   "source": [
    "N_values_CV = np.arange(20,1300,10,dtype=int)\n",
    "list_min_CV = []\n",
    "for n in N_values_CV:\n",
    "    value = f(Condat_et_Vu(x0,lambd,tau,sigma,n),lambd)    \n",
    "    list_min_CV.append(value)"
   ]
  },
  {
   "cell_type": "markdown",
   "id": "2ba904bf",
   "metadata": {},
   "source": [
    "On trouve donc le minimiseur $\\hat{u}$:"
   ]
  },
  {
   "cell_type": "code",
   "execution_count": 22,
   "id": "fef20285",
   "metadata": {},
   "outputs": [
    {
     "name": "stdout",
     "output_type": "stream",
     "text": [
      "[[1.41424812]\n",
      " [1.41424812]\n",
      " [2.0040706 ]\n",
      " [2.0040706 ]]\n"
     ]
    }
   ],
   "source": [
    "print(Condat_et_Vu(x0,lambd,tau,sigma,Niter))"
   ]
  },
  {
   "cell_type": "markdown",
   "id": "4c88f3aa",
   "metadata": {},
   "source": [
    "### 5 . *PAPC*"
   ]
  },
  {
   "cell_type": "markdown",
   "id": "8551d679",
   "metadata": {},
   "source": [
    "**(a)** Pourquoi l'algorithme *PAPC* est-il lui-aussi bien adapté à ce problème d'optimisation ?"
   ]
  },
  {
   "cell_type": "markdown",
   "id": "2cfa87f1",
   "metadata": {},
   "source": [
    "<u>Commentaire:</u> Trouver un minimiseur de la fonction $f:x\\mapsto\\frac{1}{2}||Ax-d||_{2}^{2}+\\lambda||Dx||_{1}$ revient à chercher un $\\hat{x}$ tel que \n",
    "\n",
    "$$\\hat{x} \\in \\underset{x \\in E}{\\text{argmin}}(\\frac{1}{2}||Ax-d||_{2}^{2}+\\lambda||Dx||_{1})$$\n",
    "\n",
    "En posant $f_1(x)=\\frac{1}{2}||Ax-d||_{2}^{2}$ ainsi que $f_2(x)=\\lambda||x||_{1}$, notre problème d'optimisation revient alors à trouver: \n",
    "\n",
    "$$\\hat{x} \\in \\underset{x \\in E}{\\text{argmin}}(f_1(x)+f_2(Dx))$$\n",
    "\n",
    "avec ici, $f_1$ qui est différentiable et $f_2$ simple. Donc l'algorithme *PAPC* est bien adapté à ce problème d'optimisation."
   ]
  },
  {
   "cell_type": "markdown",
   "id": "df6dc0a9",
   "metadata": {},
   "source": [
    "**(b)** Obtenir le minimiseur de $f$ à l'aide de l'algorithme *PAPC*."
   ]
  },
  {
   "cell_type": "markdown",
   "id": "aa309b67",
   "metadata": {},
   "source": [
    "Implémentons l'algorithme `PAPC`."
   ]
  },
  {
   "cell_type": "code",
   "execution_count": 23,
   "id": "b71aaf98",
   "metadata": {},
   "outputs": [],
   "source": [
    "def PAPC(x0,lambd,tau,sigma,Niter):\n",
    "    y = np.zeros((3,1))\n",
    "    x = x0\n",
    "    z = x0\n",
    "    for n in range (Niter):\n",
    "        z = x -tau*(gradient_f1(x)+(D.T)@y)\n",
    "        y = prox_f2_etoile(y+sigma*(D@z),lambd)\n",
    "        x = x -tau*(gradient_f1(x)+(D.T)@y)\n",
    "        \n",
    "    return x"
   ]
  },
  {
   "cell_type": "markdown",
   "id": "27ae7ad1",
   "metadata": {},
   "source": [
    "On initialise l'algorithme avec $x_0 \\in E$ ainsi que $y_0 \\in E'$, on prend $\\tau$ tel que $\\tau\\leq \\frac{1}{L}$, avec $L = max\\big{\\{}|\\mu| \\ \\text{tq}\\ \\mu \\ \\text{est une vp de}\\ A^TA \\big{\\}}$, et $\\sigma$ qui respecte $\\sigma < \\frac{1}{\\tau |||D|||^2}$."
   ]
  },
  {
   "cell_type": "code",
   "execution_count": 24,
   "id": "14081f3f",
   "metadata": {},
   "outputs": [],
   "source": [
    "x0 = np.zeros((4,1))\n",
    "lambd = 0.1\n",
    "L=np.max(np.abs(np.linalg.eigvals(A.T@A)))\n",
    "tau = 1/L\n",
    "norm_D=np.max(np.abs(np.linalg.eigvals(D.T@D)))**2\n",
    "sigma = 1/(2*tau*norm_D)\n",
    "Niter=3000"
   ]
  },
  {
   "cell_type": "markdown",
   "id": "66bbacb8",
   "metadata": {},
   "source": [
    "Création des données pour l'affichage simultané en question **5.**"
   ]
  },
  {
   "cell_type": "code",
   "execution_count": 25,
   "id": "13f9dc8f",
   "metadata": {},
   "outputs": [],
   "source": [
    "N_values_PAPC = np.arange(20,1300,10,dtype=int)\n",
    "list_min_PAPC = []\n",
    "for n in N_values_PAPC:\n",
    "    value = f(PAPC(x0,lambd,tau,sigma,n),lambd)    \n",
    "    list_min_PAPC.append(value)"
   ]
  },
  {
   "cell_type": "markdown",
   "id": "3b590b40",
   "metadata": {},
   "source": [
    "On trouve donc le minimiseur $\\hat{u}$:"
   ]
  },
  {
   "cell_type": "code",
   "execution_count": 26,
   "id": "1e800ac2",
   "metadata": {},
   "outputs": [
    {
     "name": "stdout",
     "output_type": "stream",
     "text": [
      "[[1.41424812]\n",
      " [1.41424812]\n",
      " [2.0040706 ]\n",
      " [2.0040706 ]]\n"
     ]
    }
   ],
   "source": [
    "print(PAPC(x0,lambd,tau,sigma,Niter))"
   ]
  },
  {
   "cell_type": "markdown",
   "id": "53fa6402",
   "metadata": {},
   "source": [
    "**(c)** Comparer les vitesses de convergence des quatre algorithmes."
   ]
  },
  {
   "cell_type": "code",
   "execution_count": 27,
   "id": "9b8dbf3b",
   "metadata": {},
   "outputs": [
    {
     "data": {
      "image/png": "[encoded data removed]",
      "text/plain": [
       "<Figure size 1100x800 with 4 Axes>"
      ]
     },
     "metadata": {},
     "output_type": "display_data"
    }
   ],
   "source": [
    "fig, axs = plt.subplots(nrows=2, ncols=2,figsize=(11,8))\n",
    "plt.subplots_adjust(hspace=0.35,wspace=0.25)\n",
    "fig.suptitle('Vitesses de convergence des 4 algorithmes', fontsize=16)\n",
    "\n",
    "plt.subplot(221)\n",
    "plt.plot(N_values_FISTA,list_min_FISTA)\n",
    "plt.grid(True)\n",
    "plt.title(\"FISTA\",color=\"blue\")\n",
    "plt.xlabel(\"Nombre d'itérations\")\n",
    "plt.ylabel(r'$f(\\hat{x})$')\n",
    "plt.subplot(222)\n",
    "plt.plot(N_values_CP,list_min_CP)\n",
    "plt.title(\"Chambolle-Pock\",color=\"blue\")\n",
    "plt.xlabel(\"Nombre d'itérations\")\n",
    "plt.ylabel(r'$f(\\hat{x})$')\n",
    "plt.grid(True)\n",
    "plt.subplot(223)\n",
    "plt.plot(N_values_CV,list_min_CV)\n",
    "plt.title(\"Condat et Vu\",color=\"blue\")\n",
    "plt.xlabel(\"Nombre d'itérations\")\n",
    "plt.ylabel(r'$f(\\hat{x})$')\n",
    "plt.grid(True)\n",
    "plt.subplot(224)\n",
    "plt.plot(N_values_PAPC,list_min_PAPC)\n",
    "plt.title(\"PAPC\",color=\"blue\")\n",
    "plt.xlabel(\"Nombre d'itérations\")\n",
    "plt.ylabel(r'$f(\\hat{x})$')\n",
    "plt.grid(True)\n",
    "plt.show()"
   ]
  },
  {
   "cell_type": "markdown",
   "id": "43df1dd4",
   "metadata": {},
   "source": [
    "**(d)** Si on suppose que les vecteurs $d$ et $u$ sont de grande dimension et que $A$ est un opérateur non inversible pour lequel on peut calculer rapidement $A^TAx$, pour tout $x$, quel serait l'algorithme le mieux adapté pour minimiser la fonction $f$ ?"
   ]
  },
  {
   "cell_type": "markdown",
   "id": "7cc8f759",
   "metadata": {},
   "source": [
    "<u>Commentaire:</u> Dans ce contexte, si l'on sait calculer rapidement $A^TAx$ pour tout $x$, et que $A$ est un opérateur non inversible, alors il vaut mieux se tourner vers les algorithmes `Condat_et_Vu` ou bien `PAPC`, car ils requièrent à chaque itération une évaluation de  $\\nabla f_1(x)=A^T(Ax-d)$ qui est alors \"rapide\" à calculer.\n",
    "\n",
    "L'algorithme `PAPC` semble par ailleurs avoir une convergence plus rapide vers le minimiseur donc on peut choisir cet algorithme, d'après nos résultats aux questions précédentes."
   ]
  },
  {
   "cell_type": "markdown",
   "id": "da9e917c",
   "metadata": {},
   "source": [
    "### 6. *Méthode primal-dual généralisée par Condat et Vu (suite)*"
   ]
  },
  {
   "cell_type": "markdown",
   "id": "ba6c0e66",
   "metadata": {},
   "source": [
    "**(a)** On sait maintenant que $u_4 -u_3+u_2-u_1=1$. Afin de tenir compte de cette information, on se propose de minimiser la fonction $x\\mapsto f(x)$, sous la contrainte $x_4 -x_3+x_2-x_1=1$. Pourquoi l'algorithme de *Condat et Vu* est-il bien adapté à ce problème d'optimisation ?"
   ]
  },
  {
   "cell_type": "markdown",
   "id": "e9e60f12",
   "metadata": {},
   "source": [
    "<u>Commentaire:</u> Minimiser $f(x)$ sous la contrainte $C=\\big{\\{}x\\in R^4 \\ \\big{/} \\ x_4 -x_3+x_2-x_1=1 \\big{\\}}$ revient à minimiser la fonction $\\tilde{f}:x \\mapsto f(x) + \\mathcal{I}_C(x)$.\n",
    "\n",
    "On a alors que $\\tilde{f}(x) = f_0(x) +f_1(x)+f_2(Ax) $, avec $f_0(x)=\\mathcal{I}_C(x)$ qui est une fonction simple, $f_1(x)=\\frac{1}{2}||Ax-d||_{2}^{2}$ une fonction différentiable, de gradient *Lipschitzien*, et $f_2(x)=\\lambda||x||_{1}$ également une fonction simple.\n",
    "\n",
    "L'algorithme de *Condat et Vu* est alors bien adapté à ce problème d'optimisation."
   ]
  },
  {
   "cell_type": "markdown",
   "id": "49a729d2",
   "metadata": {},
   "source": [
    "**(b)** Calculer l'opérateur proximal de la fonction indicatrice de $C=\\big{\\{}x\\in R^4 \\ \\big{|} \\ x_4 -x_3+x_2-x_1=1 \\big{\\}}$."
   ]
  },
  {
   "cell_type": "markdown",
   "id": "a76c75d8",
   "metadata": {},
   "source": [
    "On a que:\n",
    "$$\\begin{align}\n",
    "prox_{f_0}(x) & =  \\underset{z \\in E}{\\text{argmin}}\\big{(}\\frac{1}{2}||z-x||^2_2 +\\mathcal{I}_C(z)\\big{)}\\\\\n",
    "                & =  \\underset{z \\in C}{\\text{argmin}}\\big{(}\\frac{1}{2}||z-x||^2_2\\big{)} \\\\\n",
    "                & = \\text{proj}_{C}(x) \\\\\n",
    "\\end{align}\n",
    "$$"
   ]
  },
  {
   "cell_type": "markdown",
   "id": "87c5eab5",
   "metadata": {},
   "source": [
    "Or, $C$ étant un hyperplan de $R^4$, de la forme $C=\\big{\\{}x\\in R^4 \\ \\big{|} \\ \\langle u , x \\rangle = b \\big{\\}}$, avec ici , $ u =\\begin{pmatrix}-1 , 1 ,-1 ,1 \\end{pmatrix}$ et $b=1$.\n",
    "\n",
    "Il vient que:\n",
    "\n",
    "$$ \\text{proj}_{C}(x)=x-\\frac{\\langle x,u\\rangle-b}{||u||^2}u$$"
   ]
  },
  {
   "cell_type": "markdown",
   "id": "54b6cb60",
   "metadata": {},
   "source": [
    "On définit alors $prox_{f_0}(x)$ par la fonction `prox_f0`."
   ]
  },
  {
   "cell_type": "code",
   "execution_count": 40,
   "id": "7797f818",
   "metadata": {},
   "outputs": [],
   "source": [
    "def prox_f0(x):\n",
    "    u = np.reshape(np.array([-1,1,-1,1]),(4,1))\n",
    "    b = 1\n",
    "    return x-((np.sum(u*x)-b)/np.linalg.norm(u)**2)*u"
   ]
  },
  {
   "cell_type": "markdown",
   "id": "bdf7b729",
   "metadata": {},
   "source": [
    "**(c)** Résoudre ce problème d'optimisation et comparer la solution obtenue aux estimations de $u$ précédentes."
   ]
  },
  {
   "cell_type": "markdown",
   "id": "15af2872",
   "metadata": {},
   "source": [
    "On définit pour cela un algorithme `Condat_et_Vu_evol`."
   ]
  },
  {
   "cell_type": "code",
   "execution_count": 29,
   "id": "824645d5",
   "metadata": {},
   "outputs": [],
   "source": [
    "def Condat_et_Vu_evol(x0,lambd,tau,sigma,Niter):\n",
    "    y = np.zeros((3,1))\n",
    "    x = x0\n",
    "    z = x0\n",
    "    x_pivot = x0\n",
    "    for n in range (Niter):\n",
    "        y = prox_f2_etoile(y + sigma*D@z,lambd)\n",
    "        x_pivot = prox_f0(x_pivot -tau*(D.T@y+gradient_f1(x_pivot)))\n",
    "        z = 2*x_pivot -x\n",
    "        x = x_pivot\n",
    "    return x"
   ]
  },
  {
   "cell_type": "markdown",
   "id": "21ef7d03",
   "metadata": {},
   "source": [
    "Création des données pour l'affichage."
   ]
  },
  {
   "cell_type": "code",
   "execution_count": 30,
   "id": "5f7b704b",
   "metadata": {},
   "outputs": [],
   "source": [
    "x0 = np.zeros((4,1))\n",
    "lambd = 0.5\n",
    "tau = 0.001\n",
    "norm_D = np.max(np.abs(np.linalg.eigvals(D.T@D)))**2\n",
    "L = np.max(np.abs(np.linalg.eigvals(A.T@A)))\n",
    "sigma = ((1/tau)-L)*(1/2*norm_D)\n",
    "Niter=3500"
   ]
  },
  {
   "cell_type": "markdown",
   "id": "c8038a28",
   "metadata": {},
   "source": [
    "On trouve donc le minimiseur $\\hat{u}$:"
   ]
  },
  {
   "cell_type": "code",
   "execution_count": 31,
   "id": "71722d57",
   "metadata": {},
   "outputs": [
    {
     "name": "stdout",
     "output_type": "stream",
     "text": [
      "[[1.0003053]\n",
      " [2.0003053]\n",
      " [2.0003053]\n",
      " [2.0003053]]\n"
     ]
    }
   ],
   "source": [
    "print(Condat_et_Vu_evol(x0,lambd,tau,sigma,Niter))"
   ]
  },
  {
   "cell_type": "markdown",
   "id": "138a2fa4",
   "metadata": {},
   "source": [
    "Super, l'algorithme converge cette fois-ci exactement vers le $u$ souhaité. Affichons alors la différence en $||\\cdot||_2$ entre $u$ et $\\hat{u}$ au cours des itérations."
   ]
  },
  {
   "cell_type": "code",
   "execution_count": 32,
   "id": "73f94cb4",
   "metadata": {},
   "outputs": [],
   "source": [
    "N_values_CV_evol = np.arange(50,3500,50,dtype=int)\n",
    "list_min_CV_evol = []\n",
    "for n in N_values_CV_evol:\n",
    "    value = np.linalg.norm(Condat_et_Vu_evol(x0,lambd,tau,sigma,n)-u)\n",
    "    list_min_CV_evol.append(value)"
   ]
  },
  {
   "cell_type": "code",
   "execution_count": 33,
   "id": "2a817e72",
   "metadata": {},
   "outputs": [
    {
     "data": {
      "image/png": "[encoded data removed]",
      "text/plain": [
       "<Figure size 640x480 with 1 Axes>"
      ]
     },
     "metadata": {},
     "output_type": "display_data"
    }
   ],
   "source": [
    "plt.plot(N_values_CV_evol,list_min_CV_evol)\n",
    "plt.title(\"Condat et Vu sous contrainte\",color=\"blue\")\n",
    "plt.xlabel(\"Nombre d'itérations\")\n",
    "plt.ylabel(r'$||\\hat{u}-u||_2$')\n",
    "plt.grid(True)\n",
    "plt.show()"
   ]
  },
  {
   "cell_type": "markdown",
   "id": "8bd3db6e",
   "metadata": {},
   "source": [
    "<u>Commentaire:</u> La solution obtenue est bien meilleure que celles obtenues via les algorithmes précédents. En effet $||\\hat{u}-u||_2$ vaut $0$ dans ce cas là au bout de $3000$ itérations environ."
   ]
  },
  {
   "cell_type": "markdown",
   "id": "8372cf78",
   "metadata": {},
   "source": [
    "$||\\hat{u}-u||_2$ dans le cas du dernier algorithme:"
   ]
  },
  {
   "cell_type": "code",
   "execution_count": 34,
   "id": "200134b2",
   "metadata": {},
   "outputs": [
    {
     "name": "stdout",
     "output_type": "stream",
     "text": [
      "0.0006106022758811669\n"
     ]
    }
   ],
   "source": [
    "print(np.linalg.norm(Condat_et_Vu_evol(x0,lambd,tau,sigma,Niter)-u))"
   ]
  },
  {
   "cell_type": "markdown",
   "id": "62811de2",
   "metadata": {},
   "source": [
    "$||\\hat{u}-u||_2$ pour les premiers algorithmes:"
   ]
  },
  {
   "cell_type": "code",
   "execution_count": 35,
   "id": "984741a1",
   "metadata": {},
   "outputs": [
    {
     "name": "stdout",
     "output_type": "stream",
     "text": [
      "0.714118885998834\n"
     ]
    }
   ],
   "source": [
    "print(np.linalg.norm(PAPC(x0,lambd,tau,sigma,Niter)-u))"
   ]
  }
 ],
 "metadata": {
  "kernelspec": {
   "display_name": "Python 3 (ipykernel)",
   "language": "python",
   "name": "python3"
  },
  "language_info": {
   "codemirror_mode": {
    "name": "ipython",
    "version": 3
   },
   "file_extension": ".py",
   "mimetype": "text/x-python",
   "name": "python",
   "nbconvert_exporter": "python",
   "pygments_lexer": "ipython3",
   "version": "3.9.13"
  }
 },
 "nbformat": 4,
 "nbformat_minor": 5
}
